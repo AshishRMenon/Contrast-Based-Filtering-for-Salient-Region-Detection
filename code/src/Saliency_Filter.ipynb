{
 "cells": [
  {
   "cell_type": "code",
   "execution_count": 1,
   "metadata": {
    "ExecuteTime": {
     "end_time": "2018-11-27T20:25:06.833949Z",
     "start_time": "2018-11-27T20:25:06.008527Z"
    }
   },
   "outputs": [],
   "source": [
    "# import the necessary packages\n",
    "from skimage.segmentation import slic\n",
    "from skimage.segmentation import mark_boundaries\n",
    "from skimage.color import rgb2lab\n",
    "from skimage.util import img_as_float\n",
    "from skimage import io\n",
    "import matplotlib.pyplot as plt\n",
    "import argparse\n",
    "import cv2\n",
    "import numpy as np\n",
    "import sys"
   ]
  },
  {
   "cell_type": "code",
   "execution_count": 2,
   "metadata": {
    "ExecuteTime": {
     "end_time": "2018-11-27T20:25:06.840410Z",
     "start_time": "2018-11-27T20:25:06.836660Z"
    }
   },
   "outputs": [],
   "source": [
    "# sys.argv=['Saliency_filter-Dirty.py','./images/eagle.jpg']"
   ]
  },
  {
   "cell_type": "code",
   "execution_count": 3,
   "metadata": {
    "ExecuteTime": {
     "end_time": "2018-11-27T20:25:06.922815Z",
     "start_time": "2018-11-27T20:25:06.843652Z"
    }
   },
   "outputs": [],
   "source": [
    "if (len(sys.argv) < 2):\n",
    "    print(\"Error: File Name is missing.\")\n",
    "    print(\"Usage: python3 SaliencyFilter.py <location_of_file_along_with_filename>\")\n",
    "    quit()\n",
    "    \n",
    "ipFileName = sys.argv[1]\n",
    "\n",
    "#print(\"Input File Name: \",ipFileName)\n",
    "#ipImage  = io.imread(ipFileName)\n",
    "namesplits = ipFileName.split('.')\n",
    "fileExt = namesplits[-1]\n",
    "fileExtLen = len(fileExt)\n",
    "salFileName = ipFileName[0:-(fileExtLen+1)]+\"_sal\"+ipFileName[-(fileExtLen+1):]\n",
    "absFileName = ipFileName[0:-(fileExtLen+1)]+\"_abs\"+ipFileName[-(fileExtLen+1):]\n",
    "uniqFileName = ipFileName[0:-(fileExtLen+1)]+\"_uniq\"+ipFileName[-(fileExtLen+1):]\n",
    "distFileName = ipFileName[0:-(fileExtLen+1)]+\"_dist\"+ipFileName[-(fileExtLen+1):]\n",
    "segFileName = ipFileName[0:-(fileExtLen+1)]+\"_seg\"+ipFileName[-(fileExtLen+1):]\n",
    "\n",
    "    "
   ]
  },
  {
   "cell_type": "code",
   "execution_count": 4,
   "metadata": {
    "ExecuteTime": {
     "end_time": "2018-11-27T20:25:07.204303Z",
     "start_time": "2018-11-27T20:25:06.928282Z"
    }
   },
   "outputs": [],
   "source": [
    "sigmap = 0.25\n",
    "sigmac = 20\n",
    "nSegments=500\n",
    "\n",
    "def giveSSD(x1,x2):\n",
    "    return np.sqrt(np.sum(np.square(x1-x2)))\n",
    "\n",
    "def wp(pi,pj):\n",
    "    \n",
    "    return np.exp((-1/2*(sigmap**2))*np.square(giveSSD(pi,pj)))\n",
    "\n",
    "def wc(ci,cj):\n",
    "    \n",
    "    return np.exp((-1/2*(sigmac**2))*np.square(giveSSD(ci,cj)))\n",
    "\n",
    "\n",
    "\n",
    "def abstract(i):  \n",
    "    \n",
    "    image=i\n",
    "    image_norm=img_as_float(image)\n",
    "    lab = rgb2lab(image_norm)\n",
    "    lab_norm=(lab + np.array([0, 128, 128])) / np.array([100, 255, 255])\n",
    "    segments = slic(image_norm, n_segments = nSegments, compactness=20, sigma = 1,multichannel=True, convert2lab=True)\n",
    "    #segments = slic(image, n_segments=self.__n_segments,enforce_connectivity=True, compactness=30.0,convert2lab=False)\n",
    "\n",
    "    # show the output of SLIC\n",
    "\n",
    "    plt.imshow(mark_boundaries(image, segments))\n",
    "    plt.savefig(segFileName)\n",
    "    #plt.show()\n",
    "    n_segments = segments.max() + 1\n",
    "\n",
    "    # construct position matrix\n",
    "    max_y, max_x = np.array(segments.shape) - 1\n",
    "    x = np.linspace(0, max_x, image.shape[1]) / max_x\n",
    "    y = np.linspace(0, max_y, image.shape[0]) / max_y\n",
    "    position = np.dstack((np.meshgrid(x, y)))\n",
    "\n",
    "    mean_colors = np.zeros((n_segments, 3))\n",
    "    mean_position = np.zeros((n_segments, 2))\n",
    "    clrs=np.zeros((n_segments, 3))\n",
    "    for i in np.unique(segments):\n",
    "        mask = segments == i\n",
    "        mean_colors[i,:]=lab[mask,:].mean(axis=0)\n",
    "        mean_position[i, :] = position[mask, :].mean(axis=0)\n",
    "\n",
    "#     mean_position\n",
    "#     mean_colors\n",
    "    d_abstract={}\n",
    "\n",
    "    d={}\n",
    "    d1={}\n",
    "    d_abst={}\n",
    "    d_uniqueness={}\n",
    "    r,c=segments.shape\n",
    "    for i in range (r):\n",
    "        for j in range (c):\n",
    "            d[segments[i,j]]=[]\n",
    "            d_uniqueness[segments[i,j]]=[]\n",
    "            d1[segments[i,j]]=[]\n",
    "\n",
    "\n",
    "    for i in range (r):\n",
    "        for j in range (c):\n",
    "            d[segments[i,j]].append([i,j])\n",
    "            d1[segments[i,j]].append(image_norm[i,j])\n",
    "\n",
    "    image_copy=np.copy(image_norm)\n",
    "    \n",
    "    for i in range (r):\n",
    "        for j in range (c):\n",
    "            image_copy[i,j]= np.median(d1[segments[i,j]],axis=0)\n",
    "            d_uniqueness[segments[i,j]].append([image_copy[i,j]])\n",
    "            \n",
    "            \n",
    "    output=(image_copy*255).astype('uint8')\n",
    "    for i in d_uniqueness.keys():\n",
    "        \n",
    "        clrs[i]=d_uniqueness[i][0][0]\n",
    "\n",
    "    \n",
    "    return clrs,mean_position,segments,d,output,d_uniqueness\n",
    "\n",
    "    \n",
    "\n",
    "def uniquenessAssignment(c,p):\n",
    "    U = np.empty(len(c))\n",
    "    for i in range(len(c)):\n",
    "        Zi=0\n",
    "        pi = p[i]\n",
    "        ci = c[i]\n",
    "        tUniq = 0;\n",
    "        \n",
    "        for j in range(len(c)):\n",
    "            #if i != j:\n",
    "            pj = p[j] \n",
    "            cj=c[j]\n",
    "            Zi+= wp(pi,pj)\n",
    "\n",
    "        \n",
    "        for j in range(len(c)):\n",
    "            #if i != j:\n",
    "            pj = p[j] \n",
    "            cj=c[j]\n",
    "            tUniq += np.square(giveSSD(ci,cj))*(1/Zi)*wp(pi,pj)    \n",
    "\n",
    "        U[i] = tUniq\n",
    "    \n",
    "    return U\n",
    "\n",
    "def distributionAssignment(c,p):\n",
    "    D = np.zeros(len(c))\n",
    "    \n",
    "    \n",
    "    for i in range(len(c)):\n",
    "        Zi=0    \n",
    "        meani = 0\n",
    "        tDist = 0\n",
    "    \n",
    "        ci = c[i]\n",
    "        pi = p[i]\n",
    "        \n",
    "        for j in range(len(c)):\n",
    "            cj = c[j] \n",
    "            Zi+= wc(ci,cj)\n",
    "        \n",
    "        for j in range(len(c)):\n",
    "            cj = c[j] \n",
    "            pj = p[j]\n",
    "            #if (i != j):\n",
    "            meani += (1/Zi) * wc(ci,cj)*pj\n",
    "        \n",
    "        \n",
    "        for j in range(len(c)):\n",
    "            cj = c[j] \n",
    "            pj = p[j]\n",
    "            tDist += np.square(giveSSD(pj,meani))*(1/Zi)*wc(ci,cj)\n",
    "            \n",
    "        D[i] = tDist\n",
    "        \n",
    "        \n",
    "    return D\n",
    "def saliency_Assignment(U_norm,dist_norm,colors,positions):\n",
    "    k=3\n",
    "    Si = np.ones(len(colors))\n",
    "    S=np.ones(len(colors))\n",
    "    Si = U_norm* np.exp(-k*dist_norm);\n",
    "    for i in range(len(colors)):\n",
    "        Zi=0\n",
    "        pi = positions[i]\n",
    "        ci = colors[i]\n",
    "        tUniq = 0;\n",
    "\n",
    "        for j in range(len(colors)):\n",
    "            #if i != j:\n",
    "            pj = positions[j] \n",
    "            cj = colors[j]\n",
    "            Zi+=np.exp((-1/2*(1/10))*np.square(giveSSD(ci,cj)))*np.exp((-1/2*(1/30))*np.square(giveSSD(pi,pj)))\n",
    "\n",
    "\n",
    "        for j in range(len(colors)):\n",
    "            #if i != j:\n",
    "            pj = positions[j] \n",
    "            cj = colors[j]\n",
    "            tUniq +=(1/Zi)*np.exp((-1/2*(1/10))*np.square(giveSSD(ci,cj)))*np.exp((-1/2*(1/30))*np.square(giveSSD(pi,pj)))*Si[i] \n",
    "\n",
    "        S[i] = tUniq\n",
    "\n",
    "    return S\n",
    "\n",
    "\n",
    "    \n"
   ]
  },
  {
   "cell_type": "code",
   "execution_count": 5,
   "metadata": {
    "ExecuteTime": {
     "end_time": "2018-11-27T20:26:30.456358Z",
     "start_time": "2018-11-27T20:25:07.207221Z"
    }
   },
   "outputs": [
    {
     "data": {
      "text/plain": [
       "True"
      ]
     },
     "execution_count": 5,
     "metadata": {},
     "output_type": "execute_result"
    },
    {
     "data": {
      "image/png": "[encoded data removed]",
      "text/plain": [
       "<Figure size 432x288 with 1 Axes>"
      ]
     },
     "metadata": {},
     "output_type": "display_data"
    }
   ],
   "source": [
    "from skimage import io\n",
    "image=io.imread(ipFileName)\n",
    "image_uniqueness=np.zeros((image.shape[0],image.shape[1],3))\n",
    "image_distribution=np.zeros((image.shape[0],image.shape[1],3))\n",
    "image_saliency=np.zeros((image.shape[0],image.shape[1],3))\n",
    "\n",
    "colors=[]\n",
    "positions=[]\n",
    "colors,positions,seg,d_p,o,d_u = abstract(image)\n",
    "\n",
    "Uniqueness=uniquenessAssignment(colors,positions)\n",
    "U_norm=Uniqueness/max(Uniqueness)\n",
    "\n",
    "dist=distributionAssignment(colors,positions)\n",
    "dist.shape\n",
    "dist_norm=dist/max(dist)\n",
    "\n",
    "\n",
    "sal=saliency_Assignment(U_norm,dist_norm,colors,positions)    \n",
    "\n",
    "\n",
    "for i in range(len(d_p)):\n",
    "    for k in range(len(d_p[i])):\n",
    "        \n",
    "        row=d_p[i][k][0]\n",
    "        col=d_p[i][k][1]\n",
    "        image_uniqueness[row,col]=Uniqueness[i]\n",
    "        image_distribution[row,col]=dist_norm[i]\n",
    "        image_saliency[row,col]=sal[i]\n",
    "\n",
    "# io.imshow(o)\n",
    "# io.show()\n",
    "# io.imshow(image_uniqueness,cmap='gray')\n",
    "# io.show()\n",
    "# io.imshow(image_distribution,cmap='gray')\n",
    "# io.show()\n",
    "# io.imshow(image_saliency,cmap='gray')\n",
    "# io.show()\n",
    "\n",
    "io.imsave(absFileName,o)\n",
    "cv2.imwrite(distFileName,image_distribution*255)\n",
    "cv2.imwrite(uniqFileName,image_uniqueness*255)\n",
    "cv2.imwrite(salFileName,image_saliency*255)\n",
    "\n",
    "\n"
   ]
  }
 ],
 "metadata": {
  "kernelspec": {
   "display_name": "Python 3",
   "language": "python",
   "name": "python3"
  },
  "language_info": {
   "codemirror_mode": {
    "name": "ipython",
    "version": 3
   },
   "file_extension": ".py",
   "mimetype": "text/x-python",
   "name": "python",
   "nbconvert_exporter": "python",
   "pygments_lexer": "ipython3",
   "version": "3.6.5"
  },
  "varInspector": {
   "cols": {
    "lenName": 16,
    "lenType": 16,
    "lenVar": 40
   },
   "kernels_config": {
    "python": {
     "delete_cmd_postfix": "",
     "delete_cmd_prefix": "del ",
     "library": "var_list.py",
     "varRefreshCmd": "print(var_dic_list())"
    },
    "r": {
     "delete_cmd_postfix": ") ",
     "delete_cmd_prefix": "rm(",
     "library": "var_list.r",
     "varRefreshCmd": "cat(var_dic_list()) "
    }
   },
   "types_to_exclude": [
    "module",
    "function",
    "builtin_function_or_method",
    "instance",
    "_Feature"
   ],
   "window_display": false
  }
 },
 "nbformat": 4,
 "nbformat_minor": 2
}
