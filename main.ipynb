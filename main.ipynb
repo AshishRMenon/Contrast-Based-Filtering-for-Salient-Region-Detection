{
 "cells": [
  {
   "cell_type": "code",
   "execution_count": 4,
   "metadata": {},
   "outputs": [],
   "source": [
    "import numpy as np\n"
   ]
  },
  {
   "cell_type": "code",
   "execution_count": null,
   "metadata": {},
   "outputs": [],
   "source": [
    "sigmap = 0.25\n",
    "sigmac = 20"
   ]
  },
  {
   "cell_type": "code",
   "execution_count": null,
   "metadata": {},
   "outputs": [],
   "source": [
    "def giveSSD(x1,x2):\n",
    "    return np.sqrt(np.sum(np.square(x1-x2)))"
   ]
  },
  {
   "cell_type": "code",
   "execution_count": null,
   "metadata": {},
   "outputs": [],
   "source": [
    "def wp(pi,pj):\n",
    "    Zi = 10 #change this\n",
    "    return (1/Zi)*np.exp((-1/2*(sigmap**2))*np.square(giveSSD(pi,pj)))\n",
    "\n",
    "def wc(ci,cj):\n",
    "    Zi = 10 #change this\n",
    "    return (1/Zi)*np.exp((-1/2*(sigmac**2))*np.square(giveSSD(ci,cj)))"
   ]
  },
  {
   "cell_type": "code",
   "execution_count": 16,
   "metadata": {},
   "outputs": [],
   "source": [
    "def uniquenessAssignment(superpixels):\n",
    "    Ui = np.empty(len(superpixels))\n",
    "    for i in np.arange(len(superpixels)):\n",
    "        pi = #get position of element i\n",
    "        ci = #get color of element i\n",
    "        tUniq = 0;\n",
    "        for j in np.arange(len(superpixels)):\n",
    "            if i != j:\n",
    "                pj = #get position of element i\n",
    "                cj = #get color of element j\n",
    "                tUniq += np.square(giveSSD(ci,cj))*wp(pi,pj)\n",
    "\n",
    "        U[i] = tUniq"
   ]
  },
  {
   "cell_type": "code",
   "execution_count": 32,
   "metadata": {},
   "outputs": [],
   "source": []
  },
  {
   "cell_type": "code",
   "execution_count": 33,
   "metadata": {},
   "outputs": [
    {
     "data": {
      "text/plain": [
       "array([ 0., 10.,  0.,  0.,  0.,  0.,  0.,  0.,  0.,  0.])"
      ]
     },
     "execution_count": 33,
     "metadata": {},
     "output_type": "execute_result"
    }
   ],
   "source": []
  },
  {
   "cell_type": "code",
   "execution_count": null,
   "metadata": {},
   "outputs": [],
   "source": []
  }
 ],
 "metadata": {
  "kernelspec": {
   "display_name": "Python 3",
   "language": "python",
   "name": "python3"
  },
  "language_info": {
   "codemirror_mode": {
    "name": "ipython",
    "version": 3
   },
   "file_extension": ".py",
   "mimetype": "text/x-python",
   "name": "python",
   "nbconvert_exporter": "python",
   "pygments_lexer": "ipython3",
   "version": "3.6.5"
  }
 },
 "nbformat": 4,
 "nbformat_minor": 2
}
