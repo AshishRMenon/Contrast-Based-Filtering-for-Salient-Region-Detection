{
 "cells": [
  {
   "cell_type": "code",
   "execution_count": 2,
   "metadata": {},
   "outputs": [],
   "source": [
    "import numpy as np\n",
    "from skimage import color\n",
    "from skimage.segmentation import slic\n",
    "from scipy.spatial.distance import cdist"
   ]
  },
  {
   "cell_type": "code",
   "execution_count": 3,
   "metadata": {},
   "outputs": [],
   "source": [
    "class SaliencyFilter:\n",
    "    \n",
    "    def __init__(self,sigmaU=0.25,sigmaD=20.0,k = 6.0,alpha = 0.033,beta=0.033,nSegments = 300):\n",
    "        self.__sigmaU = sigmaU\n",
    "        self.__sigmaD = sigmaD\n",
    "        self.__k = k\n",
    "        self.__alpha = alpha\n",
    "        self.__beta = beta\n",
    "        self.__nSegments = nSegments\n",
    "    \n",
    "    \n",
    "    def __generateSuperPixels(self,image):\n",
    "        return slic(image,n_segments=self.__nSegments,enforce_connectivity=True,\n",
    "                   compactness = 30.0,convert2lab=False)\n",
    "    \n",
    "    def __normalize(self,array):\n",
    "        #change normalization equation\n",
    "        return (array-array.min())/array.max()-array.min()+1e-13\n",
    "    \n",
    "    def __uniqueness(self,superPixels,color,position):\n",
    "        weight = self.__gaussianWeight(position,self.__sigmaU)\n",
    "        uniqueness = (cdist(color,color)**2 * weight).sum(axis=1)\n",
    "        return self.__normalize(uniqueness)\n",
    "    \n",
    "    def __distribution(self,superPixels,color,position):\n",
    "        weight = self.__gaussian_weight(color,self.__sigmaD)\n",
    "        meanVal = np.dot(weight,position)\n",
    "        distribution = np.einsum('ij,ji->i',weight,cdist(position,mu)**2)\n",
    "        return self.__normalize(distribution)\n",
    "    \n",
    "    \n",
    "    "
   ]
  },
  {
   "cell_type": "code",
   "execution_count": null,
   "metadata": {},
   "outputs": [],
   "source": []
  }
 ],
 "metadata": {
  "kernelspec": {
   "display_name": "Python 3",
   "language": "python",
   "name": "python3"
  },
  "language_info": {
   "codemirror_mode": {
    "name": "ipython",
    "version": 3
   },
   "file_extension": ".py",
   "mimetype": "text/x-python",
   "name": "python",
   "nbconvert_exporter": "python",
   "pygments_lexer": "ipython3",
   "version": "3.6.5"
  }
 },
 "nbformat": 4,
 "nbformat_minor": 2
}
